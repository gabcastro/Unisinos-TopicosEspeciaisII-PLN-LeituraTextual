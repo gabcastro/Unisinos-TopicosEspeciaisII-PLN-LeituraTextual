{
 "cells": [
  {
   "cell_type": "code",
   "execution_count": null,
   "metadata": {},
   "outputs": [],
   "source": [
    "import pandas\n",
    "\n",
    "from nltk import *\n",
    "from textblob import *\n",
    "\n",
    "nltk.download('words')\n",
    "nltk.download('stopwords')\n",
    "nltk.download('wordnet')"
   ]
  },
  {
   "cell_type": "code",
   "execution_count": 72,
   "metadata": {},
   "outputs": [],
   "source": [
    "# Reading the dataset\n",
    "data = pandas.read_csv('dataset/review_hotel.csv')"
   ]
  },
  {
   "cell_type": "code",
   "execution_count": 73,
   "metadata": {},
   "outputs": [
    {
     "data": {
      "text/html": [
       "<div>\n",
       "<style scoped>\n",
       "    .dataframe tbody tr th:only-of-type {\n",
       "        vertical-align: middle;\n",
       "    }\n",
       "\n",
       "    .dataframe tbody tr th {\n",
       "        vertical-align: top;\n",
       "    }\n",
       "\n",
       "    .dataframe thead th {\n",
       "        text-align: right;\n",
       "    }\n",
       "</style>\n",
       "<table border=\"1\" class=\"dataframe\">\n",
       "  <thead>\n",
       "    <tr style=\"text-align: right;\">\n",
       "      <th></th>\n",
       "      <th>Review</th>\n",
       "    </tr>\n",
       "  </thead>\n",
       "  <tbody>\n",
       "    <tr>\n",
       "      <th>0</th>\n",
       "      <td>I am so angry that i made this post available...</td>\n",
       "    </tr>\n",
       "    <tr>\n",
       "      <th>1</th>\n",
       "      <td>Rooms are nice but for elderly a bit difficul...</td>\n",
       "    </tr>\n",
       "    <tr>\n",
       "      <th>2</th>\n",
       "      <td>My room was dirty and I was afraid to walk ba...</td>\n",
       "    </tr>\n",
       "    <tr>\n",
       "      <th>3</th>\n",
       "      <td>You When I booked with your company on line y...</td>\n",
       "    </tr>\n",
       "    <tr>\n",
       "      <th>4</th>\n",
       "      <td>Backyard of the hotel is total mess shouldn t...</td>\n",
       "    </tr>\n",
       "  </tbody>\n",
       "</table>\n",
       "</div>"
      ],
      "text/plain": [
       "                                              Review\n",
       "0   I am so angry that i made this post available...\n",
       "1   Rooms are nice but for elderly a bit difficul...\n",
       "2   My room was dirty and I was afraid to walk ba...\n",
       "3   You When I booked with your company on line y...\n",
       "4   Backyard of the hotel is total mess shouldn t..."
      ]
     },
     "execution_count": 73,
     "metadata": {},
     "output_type": "execute_result"
    }
   ],
   "source": [
    "# Exploring the top 5 observations\n",
    "data.head()"
   ]
  },
  {
   "cell_type": "code",
   "execution_count": 74,
   "metadata": {},
   "outputs": [
    {
     "data": {
      "text/html": [
       "<div>\n",
       "<style scoped>\n",
       "    .dataframe tbody tr th:only-of-type {\n",
       "        vertical-align: middle;\n",
       "    }\n",
       "\n",
       "    .dataframe tbody tr th {\n",
       "        vertical-align: top;\n",
       "    }\n",
       "\n",
       "    .dataframe thead th {\n",
       "        text-align: right;\n",
       "    }\n",
       "</style>\n",
       "<table border=\"1\" class=\"dataframe\">\n",
       "  <thead>\n",
       "    <tr style=\"text-align: right;\">\n",
       "      <th></th>\n",
       "      <th>Review</th>\n",
       "    </tr>\n",
       "  </thead>\n",
       "  <tbody>\n",
       "    <tr>\n",
       "      <th>338</th>\n",
       "      <td>Bed was really comfortable</td>\n",
       "    </tr>\n",
       "    <tr>\n",
       "      <th>339</th>\n",
       "      <td>Beautiful hotel with views of the park Transp...</td>\n",
       "    </tr>\n",
       "    <tr>\n",
       "      <th>340</th>\n",
       "      <td>No Positive</td>\n",
       "    </tr>\n",
       "    <tr>\n",
       "      <th>341</th>\n",
       "      <td>Large clean rooms with a nice size comfy bed ...</td>\n",
       "    </tr>\n",
       "    <tr>\n",
       "      <th>342</th>\n",
       "      <td>Well equipped nice room Traditinal but modern...</td>\n",
       "    </tr>\n",
       "  </tbody>\n",
       "</table>\n",
       "</div>"
      ],
      "text/plain": [
       "                                                Review\n",
       "338                        Bed was really comfortable \n",
       "339   Beautiful hotel with views of the park Transp...\n",
       "340                                        No Positive\n",
       "341   Large clean rooms with a nice size comfy bed ...\n",
       "342   Well equipped nice room Traditinal but modern..."
      ]
     },
     "execution_count": 74,
     "metadata": {},
     "output_type": "execute_result"
    }
   ],
   "source": [
    "# Exploring the last 5 observations.\n",
    "data.tail()"
   ]
  },
  {
   "cell_type": "code",
   "execution_count": 117,
   "metadata": {},
   "outputs": [
    {
     "name": "stdout",
     "output_type": "stream",
     "text": [
      "['I', 'am', 'so', 'angry', 'that', 'i', 'made', 'this', 'post', 'available', 'via', 'all', 'possible', 'sites', 'i', 'use', 'when', 'planing', 'my', 'trips', 'so', 'no', 'one', 'will', 'make', 'the', 'mistake', 'of', 'booking', 'this', 'place', 'I', 'made', 'my', 'booking', 'via', 'booking', 'com', 'We', 'stayed', 'for', '6', 'nights', 'in', 'this', 'hotel', 'from', '11', 'to', '17', 'July', 'Upon', 'arrival', 'we', 'were', 'placed', 'in', 'a', 'small', 'room', 'on', 'the', '2nd', 'floor', 'of', 'the', 'hotel', 'It', 'turned', 'out', 'that', 'this', 'was', 'not', 'the', 'room', 'we', 'booked', 'I', 'had', 'specially', 'reserved', 'the', '2', 'level', 'duplex', 'room', 'so', 'that', 'we', 'would', 'have', 'a', 'big', 'windows', 'and', 'high', 'ceilings', 'The', 'room', 'itself', 'was', 'ok', 'if', 'you', 'don', 't', 'mind', 'the', 'broken', 'window', 'that', 'can', 'not', 'be', 'closed', 'hello', 'rain', 'and', 'a', 'mini', 'fridge', 'that', 'contained', 'some', 'sort', 'of', 'a', 'bio', 'weapon', 'at', 'least', 'i', 'guessed', 'so', 'by', 'the', 'smell', 'of', 'it', 'I', 'intimately', 'asked', 'to', 'change', 'the', 'room', 'and', 'after', 'explaining', '2', 'times', 'that', 'i', 'booked', 'a', 'duplex', 'btw', 'it', 'costs', 'the', 'same', 'as', 'a', 'simple', 'double', 'but', 'got', 'way', 'more', 'volume', 'due', 'to', 'the', 'high', 'ceiling', 'was', 'offered', 'a', 'room', 'but', 'only', 'the', 'next', 'day', 'SO', 'i', 'had', 'to', 'check', 'out', 'the', 'next', 'day', 'before', '11', 'o', 'clock', 'in', 'order', 'to', 'get', 'the', 'room', 'i', 'waned', 'to', 'Not', 'the', 'best', 'way', 'to', 'begin', 'your', 'holiday', 'So', 'we', 'had', 'to', 'wait', 'till', '13', '00', 'in', 'order', 'to', 'check', 'in', 'my', 'new', 'room', 'what', 'a', 'wonderful', 'waist', 'of', 'my', 'time', 'The', 'room', '023', 'i', 'got', 'was', 'just', 'as', 'i', 'wanted', 'to', 'peaceful', 'internal', 'garden', 'view', 'big', 'window', 'We', 'were', 'tired', 'from', 'waiting', 'the', 'room', 'so', 'we', 'placed', 'our', 'belongings', 'and', 'rushed', 'to', 'the', 'city', 'In', 'the', 'evening', 'it', 'turned', 'out', 'that', 'there', 'was', 'a', 'constant', 'noise', 'in', 'the', 'room', 'i', 'guess', 'it', 'was', 'made', 'by', 'vibrating', 'vent', 'tubes', 'or', 'something', 'it', 'was', 'constant', 'and', 'annoying', 'as', 'hell', 'AND', 'it', 'did', 'not', 'stop', 'even', 'at', '2', 'am', 'making', 'it', 'hard', 'to', 'fall', 'asleep', 'for', 'me', 'and', 'my', 'wife', 'I', 'have', 'an', 'audio', 'recording', 'that', 'i', 'can', 'not', 'attach', 'here', 'but', 'if', 'you', 'want', 'i', 'can', 'send', 'it', 'via', 'e', 'mail', 'The', 'next', 'day', 'the', 'technician', 'came', 'but', 'was', 'not', 'able', 'to', 'determine', 'the', 'cause', 'of', 'the', 'disturbing', 'sound', 'so', 'i', 'was', 'offered', 'to', 'change', 'the', 'room', 'once', 'again', 'the', 'hotel', 'was', 'fully', 'booked', 'and', 'they', 'had', 'only', '1', 'room', 'left', 'the', 'one', 'that', 'was', 'smaller', 'but', 'seems', 'newer']\n",
      "['I', 'be', 'so', 'angry', 'that', 'i', 'make', 'this', 'post', 'available', 'via', 'all', 'possible', 'sit', 'i', 'use', 'when', 'plan', 'my', 'trip', 'so', 'no', 'one', 'will', 'make', 'the', 'mistake', 'of', 'book', 'this', 'place', 'I', 'make', 'my', 'book', 'via', 'book', 'com', 'We', 'stay', 'for', '6', 'nights', 'in', 'this', 'hotel', 'from', '11', 'to', '17', 'July', 'Upon', 'arrival', 'we', 'be', 'place', 'in', 'a', 'small', 'room', 'on', 'the', '2nd', 'floor', 'of', 'the', 'hotel', 'It', 'turn', 'out', 'that', 'this', 'be', 'not', 'the', 'room', 'we', 'book', 'I', 'have', 'specially', 'reserve', 'the', '2', 'level', 'duplex', 'room', 'so', 'that', 'we', 'would', 'have', 'a', 'big', 'windows', 'and', 'high', 'ceilings', 'The', 'room', 'itself', 'be', 'ok', 'if', 'you', 'don', 't', 'mind', 'the', 'break', 'window', 'that', 'can', 'not', 'be', 'close', 'hello', 'rain', 'and', 'a', 'mini', 'fridge', 'that', 'contain', 'some', 'sort', 'of', 'a', 'bio', 'weapon', 'at', 'least', 'i', 'guess', 'so', 'by', 'the', 'smell', 'of', 'it', 'I', 'intimately', 'ask', 'to', 'change', 'the', 'room', 'and', 'after', 'explain', '2', 'time', 'that', 'i', 'book', 'a', 'duplex', 'btw', 'it', 'cost', 'the', 'same', 'as', 'a', 'simple', 'double', 'but', 'get', 'way', 'more', 'volume', 'due', 'to', 'the', 'high', 'ceiling', 'be', 'offer', 'a', 'room', 'but', 'only', 'the', 'next', 'day', 'so', 'i', 'have', 'to', 'check', 'out', 'the', 'next', 'day', 'before', '11', 'o', 'clock', 'in', 'order', 'to', 'get', 'the', 'room', 'i', 'wan', 'to', 'Not', 'the', 'best', 'way', 'to', 'begin', 'your', 'holiday', 'So', 'we', 'have', 'to', 'wait', 'till', '13', '00', 'in', 'order', 'to', 'check', 'in', 'my', 'new', 'room', 'what', 'a', 'wonderful', 'waist', 'of', 'my', 'time', 'The', 'room', '023', 'i', 'get', 'be', 'just', 'as', 'i', 'want', 'to', 'peaceful', 'internal', 'garden', 'view', 'big', 'window', 'We', 'be', 'tire', 'from', 'wait', 'the', 'room', 'so', 'we', 'place', 'our', 'belong', 'and', 'rush', 'to', 'the', 'city', 'In', 'the', 'even', 'it', 'turn', 'out', 'that', 'there', 'be', 'a', 'constant', 'noise', 'in', 'the', 'room', 'i', 'guess', 'it', 'be', 'make', 'by', 'vibrate', 'vent', 'tube', 'or', 'something', 'it', 'be', 'constant', 'and', 'annoy', 'as', 'hell', 'and', 'it', 'do', 'not', 'stop', 'even', 'at', '2', 'be', 'make', 'it', 'hard', 'to', 'fall', 'asleep', 'for', 'me', 'and', 'my', 'wife', 'I', 'have', 'an', 'audio', 'record', 'that', 'i', 'can', 'not', 'attach', 'here', 'but', 'if', 'you', 'want', 'i', 'can', 'send', 'it', 'via', 'e', 'mail', 'The', 'next', 'day', 'the', 'technician', 'come', 'but', 'be', 'not', 'able', 'to', 'determine', 'the', 'cause', 'of', 'the', 'disturb', 'sound', 'so', 'i', 'be', 'offer', 'to', 'change', 'the', 'room', 'once', 'again', 'the', 'hotel', 'be', 'fully', 'book', 'and', 'they', 'have', 'only', '1', 'room', 'leave', 'the', 'one', 'that', 'be', 'smaller', 'but', 'seem', 'newer']\n",
      "['Room', 'be', 'nice', 'but', 'for', 'elderly', 'a', 'bite', 'difficult', 'as', 'most', 'room', 'be', 'two', 'story', 'with', 'narrow', 'step', 'So', 'ask', 'for', 'single', 'level', 'Inside', 'the', 'room', 'be', 'very', 'very', 'basic', 'just', 'tea', 'coffee', 'and', 'boiler', 'and', 'no', 'bar', 'empty', 'fridge']\n",
      "make\n",
      "Went\n"
     ]
    }
   ],
   "source": [
    "sentences_tokens = []\n",
    "\n",
    "stop_words = set(stopwords.words('english')) \n",
    "\n",
    "for index, row in data.head(2).iterrows():\n",
    "    sentences_tokens.append(nltk.word_tokenize(row['Review']))\n",
    "\n",
    "# *** Put all words on singular and after find infinitive verbs of words *** #\n",
    "\n",
    "word_capital_letter = ''\n",
    "lemmatized = ''\n",
    "index = -1\n",
    "\n",
    "print (sentences_tokens[0])\n",
    "for row_tokenizing in sentences_tokens:\n",
    "    for token in row_tokenizing:\n",
    "        index += 1\n",
    "        word_capital_letter = token\n",
    "        lemmatized = WordNetLemmatizer().lemmatize(word_capital_letter.lower(), 'v')\n",
    "        if word_capital_letter.istitle():\n",
    "            word_capital_letter = lemmatized.capitalize()\n",
    "        else:\n",
    "            word_capital_letter = lemmatized\n",
    "        token = word_capital_letter\n",
    "        row_tokenizing[index] = token\n",
    "    \n",
    "    print(row_tokenizing)\n",
    "    index = -1           \n",
    "        \n",
    "# *** Remove stop words *** #\n",
    "\n",
    "#filtered_sentence = []\n",
    "#all_filtered_sentence = []\n",
    "#aux_clone_list = []\n",
    "\n",
    "#for words_sentence in sentences_tokens:\n",
    "#    for word in words_sentence:\n",
    "#        if word not in stop_words:\n",
    "#            filtered_sentence.append(word)\n",
    "#        \n",
    "#    aux_clone_list = list(filtered_sentence)\n",
    "#    filtered_sentence.clear()\n",
    "#    all_filtered_sentence.append(aux_clone_list)\n",
    "\n",
    "#print(all_filtered_sentence)"
   ]
  },
  {
   "cell_type": "code",
   "execution_count": null,
   "metadata": {},
   "outputs": [],
   "source": [
    "#interessante usar \n",
    "# 1) stremming words\n",
    "# 2) part of speech using pos_tag\n",
    "# 3) chunking"
   ]
  },
  {
   "cell_type": "markdown",
   "metadata": {},
   "source": [
    "<span style=\"color:orange\">d) Definir as atividades de aprendizagem de máquina a utilizar.<span/>"
   ]
  },
  {
   "cell_type": "markdown",
   "metadata": {},
   "source": [
    "<span style=\"color:orange\">- Análise pos/neg com biblioteca textblob<span/>"
   ]
  },
  {
   "cell_type": "code",
   "execution_count": null,
   "metadata": {},
   "outputs": [],
   "source": [
    "# TODO"
   ]
  },
  {
   "cell_type": "markdown",
   "metadata": {},
   "source": [
    "<span style=\"color:orange\">e) Definir as métricas utilizadas para avaliação.<span/>"
   ]
  },
  {
   "cell_type": "markdown",
   "metadata": {},
   "source": [
    "<span style=\"color:orange\">- Realizar classificação manual (positiva e negativa) sobre cada frase e adicionar a um arquivo para os experimentos<span/>"
   ]
  },
  {
   "cell_type": "code",
   "execution_count": null,
   "metadata": {},
   "outputs": [],
   "source": [
    "# TODO"
   ]
  },
  {
   "cell_type": "markdown",
   "metadata": {},
   "source": [
    "<span style=\"color:orange\">f) Realizar experimentos. <span/>"
   ]
  },
  {
   "cell_type": "markdown",
   "metadata": {},
   "source": [
    "<span style=\"color:orange\">- Realizar análise entre a resposta do nosso código e a classificação manual (positiva e negativa) realizada em cada frase<span/>"
   ]
  },
  {
   "cell_type": "code",
   "execution_count": null,
   "metadata": {},
   "outputs": [],
   "source": [
    "# TODO"
   ]
  },
  {
   "cell_type": "markdown",
   "metadata": {},
   "source": [
    "<span style=\"color:orange\">g) Relatar os resultados segundo estas etapas previstas e escrever uma conclusão sobre o experimento, comentando sobre:<span/>\n"
   ]
  },
  {
   "cell_type": "markdown",
   "metadata": {},
   "source": [
    "<span style=\"color:orange\">a. as ferramentas e recursos utilizados;<span/>\n"
   ]
  },
  {
   "cell_type": "markdown",
   "metadata": {},
   "source": [
    "<span style=\"color:orange\">b. as referências (sites, livros, artigos) utilizados;<span/>\n"
   ]
  },
  {
   "cell_type": "markdown",
   "metadata": {},
   "source": [
    "<span style=\"color:orange\">c. os resultados obtidos com o experimento;<span/>\n"
   ]
  },
  {
   "cell_type": "markdown",
   "metadata": {},
   "source": [
    "<span style=\"color:orange\">d. possibilidades de trabalhos futuros com este experimento;<span/>\n"
   ]
  },
  {
   "cell_type": "markdown",
   "metadata": {},
   "source": [
    "<span style=\"color:orange\">e. aspectos do aprendizado pessoal durante o experimento.<span/>"
   ]
  },
  {
   "cell_type": "markdown",
   "metadata": {},
   "source": [
    "#  # TODO"
   ]
  }
 ],
 "metadata": {
  "colab": {
   "include_colab_link": true,
   "name": "Untitled1.ipynb",
   "provenance": [],
   "version": "0.3.2"
  },
  "kernelspec": {
   "display_name": "Python 3",
   "language": "python",
   "name": "python3"
  },
  "language_info": {
   "codemirror_mode": {
    "name": "ipython",
    "version": 3
   },
   "file_extension": ".py",
   "mimetype": "text/x-python",
   "name": "python",
   "nbconvert_exporter": "python",
   "pygments_lexer": "ipython3",
   "version": "3.7.1"
  }
 },
 "nbformat": 4,
 "nbformat_minor": 2
}
