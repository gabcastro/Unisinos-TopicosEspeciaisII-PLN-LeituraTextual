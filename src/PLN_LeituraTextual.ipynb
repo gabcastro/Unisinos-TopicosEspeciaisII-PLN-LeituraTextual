{
 "cells": [
  {
   "cell_type": "code",
   "execution_count": 152,
   "metadata": {},
   "outputs": [
    {
     "name": "stderr",
     "output_type": "stream",
     "text": [
      "[nltk_data] Downloading package words to\n",
      "[nltk_data]     /Users/savannadenega/nltk_data...\n",
      "[nltk_data]   Package words is already up-to-date!\n",
      "[nltk_data] Downloading package stopwords to\n",
      "[nltk_data]     /Users/savannadenega/nltk_data...\n",
      "[nltk_data]   Package stopwords is already up-to-date!\n",
      "[nltk_data] Downloading package wordnet to\n",
      "[nltk_data]     /Users/savannadenega/nltk_data...\n",
      "[nltk_data]   Package wordnet is already up-to-date!\n",
      "[nltk_data] Downloading package brown to\n",
      "[nltk_data]     /Users/savannadenega/nltk_data...\n",
      "[nltk_data]   Package brown is already up-to-date!\n"
     ]
    },
    {
     "data": {
      "text/plain": [
       "True"
      ]
     },
     "execution_count": 152,
     "metadata": {},
     "output_type": "execute_result"
    }
   ],
   "source": [
    "import pandas\n",
    "import nltk\n",
    "import textblob\n",
    "\n",
    "nltk.download('words')\n",
    "nltk.download('stopwords')\n",
    "nltk.download('wordnet')\n",
    "nltk.download('brown')"
   ]
  },
  {
   "cell_type": "code",
   "execution_count": 153,
   "metadata": {},
   "outputs": [],
   "source": [
    "# Reading the dataset\n",
    "data = pandas.read_csv('dataset/review_hotel.csv')\n",
    "data_analyze = pandas.read_csv('dataset/review_hotel_analyze.csv')"
   ]
  },
  {
   "cell_type": "code",
   "execution_count": 154,
   "metadata": {},
   "outputs": [
    {
     "data": {
      "text/html": [
       "<div>\n",
       "<style scoped>\n",
       "    .dataframe tbody tr th:only-of-type {\n",
       "        vertical-align: middle;\n",
       "    }\n",
       "\n",
       "    .dataframe tbody tr th {\n",
       "        vertical-align: top;\n",
       "    }\n",
       "\n",
       "    .dataframe thead th {\n",
       "        text-align: right;\n",
       "    }\n",
       "</style>\n",
       "<table border=\"1\" class=\"dataframe\">\n",
       "  <thead>\n",
       "    <tr style=\"text-align: right;\">\n",
       "      <th></th>\n",
       "      <th>Review</th>\n",
       "    </tr>\n",
       "  </thead>\n",
       "  <tbody>\n",
       "    <tr>\n",
       "      <td>0</td>\n",
       "      <td>I am so angry that i made this post available...</td>\n",
       "    </tr>\n",
       "    <tr>\n",
       "      <td>1</td>\n",
       "      <td>Rooms are nice but for elderly a bit difficul...</td>\n",
       "    </tr>\n",
       "    <tr>\n",
       "      <td>2</td>\n",
       "      <td>My room was dirty and I was afraid to walk ba...</td>\n",
       "    </tr>\n",
       "    <tr>\n",
       "      <td>3</td>\n",
       "      <td>You When I booked with your company on line y...</td>\n",
       "    </tr>\n",
       "    <tr>\n",
       "      <td>4</td>\n",
       "      <td>Backyard of the hotel is total mess shouldn t...</td>\n",
       "    </tr>\n",
       "  </tbody>\n",
       "</table>\n",
       "</div>"
      ],
      "text/plain": [
       "                                              Review\n",
       "0   I am so angry that i made this post available...\n",
       "1   Rooms are nice but for elderly a bit difficul...\n",
       "2   My room was dirty and I was afraid to walk ba...\n",
       "3   You When I booked with your company on line y...\n",
       "4   Backyard of the hotel is total mess shouldn t..."
      ]
     },
     "execution_count": 154,
     "metadata": {},
     "output_type": "execute_result"
    }
   ],
   "source": [
    "# Exploring the top 5 observations\n",
    "data.head()"
   ]
  },
  {
   "cell_type": "code",
   "execution_count": 155,
   "metadata": {},
   "outputs": [
    {
     "data": {
      "text/html": [
       "<div>\n",
       "<style scoped>\n",
       "    .dataframe tbody tr th:only-of-type {\n",
       "        vertical-align: middle;\n",
       "    }\n",
       "\n",
       "    .dataframe tbody tr th {\n",
       "        vertical-align: top;\n",
       "    }\n",
       "\n",
       "    .dataframe thead th {\n",
       "        text-align: right;\n",
       "    }\n",
       "</style>\n",
       "<table border=\"1\" class=\"dataframe\">\n",
       "  <thead>\n",
       "    <tr style=\"text-align: right;\">\n",
       "      <th></th>\n",
       "      <th>Review</th>\n",
       "    </tr>\n",
       "  </thead>\n",
       "  <tbody>\n",
       "    <tr>\n",
       "      <td>338</td>\n",
       "      <td>Bed was really comfortable</td>\n",
       "    </tr>\n",
       "    <tr>\n",
       "      <td>339</td>\n",
       "      <td>Beautiful hotel with views of the park Transp...</td>\n",
       "    </tr>\n",
       "    <tr>\n",
       "      <td>340</td>\n",
       "      <td>No Positive</td>\n",
       "    </tr>\n",
       "    <tr>\n",
       "      <td>341</td>\n",
       "      <td>Large clean rooms with a nice size comfy bed ...</td>\n",
       "    </tr>\n",
       "    <tr>\n",
       "      <td>342</td>\n",
       "      <td>Well equipped nice room Traditinal but modern...</td>\n",
       "    </tr>\n",
       "  </tbody>\n",
       "</table>\n",
       "</div>"
      ],
      "text/plain": [
       "                                                Review\n",
       "338                        Bed was really comfortable \n",
       "339   Beautiful hotel with views of the park Transp...\n",
       "340                                        No Positive\n",
       "341   Large clean rooms with a nice size comfy bed ...\n",
       "342   Well equipped nice room Traditinal but modern..."
      ]
     },
     "execution_count": 155,
     "metadata": {},
     "output_type": "execute_result"
    }
   ],
   "source": [
    "# Exploring the last 5 observations.\n",
    "data.tail()"
   ]
  },
  {
   "cell_type": "code",
   "execution_count": 156,
   "metadata": {},
   "outputs": [
    {
     "name": "stdout",
     "output_type": "stream",
     "text": [
      "[['I', 'so', 'angry', 'i', 'make', 'post', 'available', 'via', 'possible', 'sit', 'use', 'plan', 'trip', 'no', 'one', 'make', 'mistake', 'book', 'place', 'I', 'make', 'book', 'via', 'book', 'com', 'We', 'stay', '6', 'nights', 'this', 'hotel', '11', '17', 'July', 'Upon', 'arrival', 'be', 'place', 'a', 'small', 'room', 'the', '2nd', 'floor', 'the', 'hotel', 'It', 'turn', 'that', 'be', 'the', 'room', 'book', 'I', 'specially', 'reserve', '2', 'level', 'duplex', 'room', 'that', 'would', 'a', 'big', 'windows', 'high', 'ceilings', 'The', 'room', 'be', 'ok', 'you', 't', 'mind', 'break', 'window', 'can', 'be', 'close', 'hello', 'rain', 'a', 'mini', 'fridge', 'contain', 'sort', 'a', 'bio', 'weapon', 'least', 'guess', 'by', 'smell', 'it', 'I', 'intimately', 'ask', 'change', 'room', 'after', 'explain', '2', 'time', 'i', 'book', 'duplex', 'btw', 'cost', 'same', 'a', 'simple', 'double', 'get', 'way', 'volume', 'due', 'the', 'high', 'ceiling', 'offer', 'room', 'only', 'next', 'day', 'i', 'to', 'check', 'the', 'next', 'day', '11', 'clock', 'order', 'get', 'room', 'wan', 'Not', 'best', 'way', 'begin', 'holiday', 'So', 'have', 'wait', 'till', '13', '00', 'order', 'check', 'my', 'new', 'room', 'a', 'wonderful', 'waist', 'my', 'time', 'The', 'room', '023', 'get', 'just', 'i', 'want', 'peaceful', 'internal', 'garden', 'view', 'big', 'window', 'We', 'tire', 'wait', 'room', 'we', 'place', 'belong', 'rush', 'the', 'city', 'In', 'even', 'turn', 'that', 'be', 'constant', 'noise', 'the', 'room', 'guess', 'be', 'make', 'vibrate', 'vent', 'tube', 'something', 'be', 'constant', 'annoy', 'hell', 'it', 'not', 'stop', 'even', '2', 'make', 'hard', 'fall', 'asleep', 'me', 'my', 'wife', 'I', 'an', 'audio', 'record', 'i', 'not', 'attach', 'but', 'you', 'want', 'can', 'send', 'via', 'e', 'mail', 'The', 'next', 'day', 'technician', 'come', 'be', 'able', 'determine', 'cause', 'the', 'disturb', 'sound', 'i', 'offer', 'change', 'room', 'again', 'hotel', 'fully', 'book', 'they', 'only', '1', 'room', 'leave', 'one', 'be', 'smaller', 'seem', 'newer'], ['Room', 'nice', 'for', 'elderly', 'bite', 'difficult', 'most', 'room', 'two', 'story', 'narrow', 'step', 'So', 'ask', 'single', 'level', 'Inside', 'room', 'very', 'basic', 'tea', 'coffee', 'boiler', 'no', 'bar', 'empty', 'fridge']]\n"
     ]
    }
   ],
   "source": [
    "# Number of dataset consumed itens\n",
    "number_dataset_consumed_itens = 2\n",
    "\n",
    "sentences_tokens = []\n",
    "\n",
    "# Set language stopwords to english\n",
    "stop_words = set(nltk.corpus.stopwords.words('english')) \n",
    "\n",
    "# Do tokenization over each Review from dataset\n",
    "for index, row in data.head(number_dataset_consumed_itens).iterrows():\n",
    "    sentences_tokens.append(nltk.word_tokenize(row['Review']))\n",
    "\n",
    "# Put all words on singular and after find infinitive verbs of words\n",
    "\n",
    "word_capital_letter = ''\n",
    "lemmatized = ''\n",
    "index = -1\n",
    "\n",
    "for row_tokenizing in sentences_tokens:\n",
    "    for token in row_tokenizing:\n",
    "        index += 1\n",
    "        word_capital_letter = token\n",
    "        lemmatized = nltk.WordNetLemmatizer().lemmatize(word_capital_letter.lower(), 'v')\n",
    "        if word_capital_letter.istitle():\n",
    "            word_capital_letter = lemmatized.capitalize()\n",
    "        else:\n",
    "            word_capital_letter = lemmatized\n",
    "        token = word_capital_letter\n",
    "        row_tokenizing[index] = token\n",
    "    \n",
    "    index = -1           \n",
    "\n",
    "# Remove stop words\n",
    "\n",
    "index = -1\n",
    "\n",
    "for words_sentence in sentences_tokens:\n",
    "    for word in words_sentence:\n",
    "        index += 1\n",
    "        if word in stop_words:\n",
    "            del words_sentence[index]\n",
    "    \n",
    "    index = -1\n",
    "    \n",
    "print(sentences_tokens)"
   ]
  },
  {
   "cell_type": "markdown",
   "metadata": {},
   "source": [
    "<span style=\"color:orange\">d) Definir as atividades de aprendizagem de máquina a utilizar.<span/>"
   ]
  },
  {
   "cell_type": "markdown",
   "metadata": {},
   "source": [
    "<span style=\"color:orange\">- Análise pos/neg com biblioteca textblob<span/>"
   ]
  },
  {
   "cell_type": "code",
   "execution_count": 157,
   "metadata": {},
   "outputs": [
    {
     "name": "stdout",
     "output_type": "stream",
     "text": [
      "[0.05578940667175961, 0.032653061224489785]\n"
     ]
    }
   ],
   "source": [
    "\n",
    "polarity_sentences = []\n",
    "\n",
    "for sentence_token in sentences_tokens:\n",
    "    \n",
    "    text = nltk.tokenize.treebank.TreebankWordDetokenizer().detokenize(sentence_token)\n",
    "    \n",
    "    blob = textblob.TextBlob(text)\n",
    "\n",
    "    # [('The', 'DT'), ('titular', 'JJ'),\n",
    "    #  ('threat', 'NN'), ('of', 'IN'), ...]\n",
    "    blob.tags\n",
    "\n",
    "    # WordList(['titular threat', 'blob',\n",
    "    #            'ultimate movie monster',\n",
    "    #            'amoeba-like mass', ...])\n",
    "    blob.noun_phrases  \n",
    "\n",
    "    if index_polarity_sentences < len(sentences_tokens):\n",
    "        for sentence in blob.sentences:\n",
    "            polarity_sentences.append(sentence.sentiment.polarity)\n",
    "    \n",
    "    \n",
    "print(polarity_sentences)\n"
   ]
  },
  {
   "cell_type": "markdown",
   "metadata": {},
   "source": [
    "<span style=\"color:orange\">e) Definir as métricas utilizadas para avaliação.<span/>"
   ]
  },
  {
   "cell_type": "markdown",
   "metadata": {},
   "source": [
    "<span style=\"color:orange\">- Realizar classificação manual (positiva e negativa) sobre cada frase e adicionar a um arquivo para os experimentos<span/>"
   ]
  },
  {
   "cell_type": "code",
   "execution_count": 158,
   "metadata": {},
   "outputs": [
    {
     "name": "stdout",
     "output_type": "stream",
     "text": [
      "['Negative', 'Positive']\n"
     ]
    }
   ],
   "source": [
    "analyze_sentences_tokens = []\n",
    "\n",
    "for index, row in data_analyze.head(number_dataset_consumed_itens).iterrows():\n",
    "    analyze_sentences_tokens.append(nltk.word_tokenize(row['Analyze']))\n",
    "    \n",
    "\n",
    "analyze_sentences = []\n",
    "\n",
    "for analyze_sentence_tokens in analyze_sentences_tokens:\n",
    "    \n",
    "    text = nltk.tokenize.treebank.TreebankWordDetokenizer().detokenize(analyze_sentence_tokens)\n",
    "    analyze_sentences.append(text)\n",
    "    \n",
    "print(analyze_sentences)"
   ]
  },
  {
   "cell_type": "markdown",
   "metadata": {},
   "source": [
    "<span style=\"color:orange\">f) Realizar experimentos. <span/>"
   ]
  },
  {
   "cell_type": "markdown",
   "metadata": {},
   "source": [
    "<span style=\"color:orange\">- Realizar análise entre a resposta do nosso código e a classificação manual (positiva e negativa) realizada em cada frase<span/>"
   ]
  },
  {
   "cell_type": "code",
   "execution_count": 160,
   "metadata": {},
   "outputs": [
    {
     "name": "stdout",
     "output_type": "stream",
     "text": [
      "Sentence Number: 0 - Comparison Code X Manual Analysis: FAILURE\n",
      "Sentence Number: 1 - Comparison Code X Manual Analysis: SUCCESS\n"
     ]
    }
   ],
   "source": [
    "index = 0\n",
    "\n",
    "for polarity_sentence in polarity_sentences:  \n",
    "    if polarity_sentence > 0 and analyze_sentences[index] == \"Positive\":\n",
    "        print(\"Sentence Number: \" + str(index) + \" - Comparison Code X Manual Analysis: SUCCESS\")\n",
    "    elif polarity_sentence < 0 and analyze_sentences[index] == \"Negative\":\n",
    "        print(\"Sentence Number: \" + str(index) + \" - Comparison Code X Manual Analysis: SUCCESS\")\n",
    "    else:\n",
    "        print(\"Sentence Number: \" + str(index) + \" - Comparison Code X Manual Analysis: FAILURE\")\n",
    "    index = index + 1\n",
    "        "
   ]
  },
  {
   "cell_type": "markdown",
   "metadata": {},
   "source": [
    "<span style=\"color:orange\">g) Relatar os resultados segundo estas etapas previstas e escrever uma conclusão sobre o experimento, comentando sobre:<span/>\n"
   ]
  },
  {
   "cell_type": "markdown",
   "metadata": {},
   "source": [
    "<span style=\"color:orange\">a. as ferramentas e recursos utilizados;<span/>\n"
   ]
  },
  {
   "cell_type": "markdown",
   "metadata": {},
   "source": [
    "<span style=\"color:orange\">b. as referências (sites, livros, artigos) utilizados;<span/>\n"
   ]
  },
  {
   "cell_type": "markdown",
   "metadata": {},
   "source": [
    "<span style=\"color:orange\">c. os resultados obtidos com o experimento;<span/>\n"
   ]
  },
  {
   "cell_type": "markdown",
   "metadata": {},
   "source": [
    "<span style=\"color:orange\">d. possibilidades de trabalhos futuros com este experimento;<span/>\n"
   ]
  },
  {
   "cell_type": "markdown",
   "metadata": {},
   "source": [
    "<span style=\"color:orange\">e. aspectos do aprendizado pessoal durante o experimento.<span/>"
   ]
  },
  {
   "cell_type": "markdown",
   "metadata": {},
   "source": [
    "#  # TODO"
   ]
  }
 ],
 "metadata": {
  "colab": {
   "include_colab_link": true,
   "name": "Untitled1.ipynb",
   "provenance": [],
   "version": "0.3.2"
  },
  "kernelspec": {
   "display_name": "Python 3",
   "language": "python",
   "name": "python3"
  },
  "language_info": {
   "codemirror_mode": {
    "name": "ipython",
    "version": 3
   },
   "file_extension": ".py",
   "mimetype": "text/x-python",
   "name": "python",
   "nbconvert_exporter": "python",
   "pygments_lexer": "ipython3",
   "version": "3.7.4"
  }
 },
 "nbformat": 4,
 "nbformat_minor": 2
}
