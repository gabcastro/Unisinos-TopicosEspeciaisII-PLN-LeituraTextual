{
 "cells": [
  {
   "cell_type": "code",
   "execution_count": null,
   "metadata": {},
   "outputs": [],
   "source": [
    "import pandas\n",
    "import nltk\n",
    "import textblob\n",
    "\n",
    "nltk.download('words')\n",
    "nltk.download('stopwords')\n",
    "nltk.download('wordnet')"
   ]
  },
  {
   "cell_type": "code",
   "execution_count": null,
   "metadata": {},
   "outputs": [],
   "source": [
    "# Reading the dataset\n",
    "data = pandas.read_csv('dataset/review_hotel.csv')"
   ]
  },
  {
   "cell_type": "code",
   "execution_count": null,
   "metadata": {},
   "outputs": [],
   "source": [
    "# Exploring the top 5 observations\n",
    "data.head()"
   ]
  },
  {
   "cell_type": "code",
   "execution_count": null,
   "metadata": {},
   "outputs": [],
   "source": [
    "# Exploring the last 5 observations.\n",
    "data.tail()"
   ]
  },
  {
   "cell_type": "code",
   "execution_count": null,
   "metadata": {},
   "outputs": [],
   "source": [
    "sentences_tokens = []\n",
    "\n",
    "stop_words = set(corpus.stopwords.words('english')) \n",
    "\n",
    "for index, row in data.head(2).iterrows():\n",
    "    sentences_tokens.append(nltk.word_tokenize(row['Review']))\n",
    "\n",
    "# *** Put all words on singular and after find infinitive verbs of words *** #\n",
    "\n",
    "word_capital_letter = ''\n",
    "lemmatized = ''\n",
    "index = -1\n",
    "\n",
    "\n",
    "for row_tokenizing in sentences_tokens:\n",
    "    for token in row_tokenizing:\n",
    "        index += 1\n",
    "        word_capital_letter = token\n",
    "        lemmatized = WordNetLemmatizer().lemmatize(word_capital_letter.lower(), 'v')\n",
    "        if word_capital_letter.istitle():\n",
    "            word_capital_letter = lemmatized.capitalize()\n",
    "        else:\n",
    "            word_capital_letter = lemmatized\n",
    "        token = word_capital_letter\n",
    "        row_tokenizing[index] = token\n",
    "    \n",
    "    index = -1           \n",
    "\n",
    "# *** Remove stop words *** #\n",
    "\n",
    "index = -1\n",
    "\n",
    "for words_sentence in sentences_tokens:\n",
    "    for word in words_sentence:\n",
    "        index += 1\n",
    "        if word in stop_words:\n",
    "            del words_sentence[index]\n",
    "    \n",
    "    index = -1"
   ]
  },
  {
   "cell_type": "markdown",
   "metadata": {},
   "source": [
    "<span style=\"color:orange\">d) Definir as atividades de aprendizagem de máquina a utilizar.<span/>"
   ]
  },
  {
   "cell_type": "markdown",
   "metadata": {},
   "source": [
    "<span style=\"color:orange\">- Análise pos/neg com biblioteca textblob<span/>"
   ]
  },
  {
   "cell_type": "markdown",
   "metadata": {},
   "source": [
    "<span style=\"color:orange\">e) Definir as métricas utilizadas para avaliação.<span/>"
   ]
  },
  {
   "cell_type": "markdown",
   "metadata": {},
   "source": [
    "<span style=\"color:orange\">- Realizar classificação manual (positiva e negativa) sobre cada frase e adicionar a um arquivo para os experimentos<span/>"
   ]
  },
  {
   "cell_type": "code",
   "execution_count": null,
   "metadata": {},
   "outputs": [],
   "source": [
    "# TODO"
   ]
  },
  {
   "cell_type": "markdown",
   "metadata": {},
   "source": [
    "<span style=\"color:orange\">f) Realizar experimentos. <span/>"
   ]
  },
  {
   "cell_type": "markdown",
   "metadata": {},
   "source": [
    "<span style=\"color:orange\">- Realizar análise entre a resposta do nosso código e a classificação manual (positiva e negativa) realizada em cada frase<span/>"
   ]
  },
  {
   "cell_type": "code",
   "execution_count": null,
   "metadata": {},
   "outputs": [],
   "source": [
    "# TODO"
   ]
  },
  {
   "cell_type": "markdown",
   "metadata": {},
   "source": [
    "<span style=\"color:orange\">g) Relatar os resultados segundo estas etapas previstas e escrever uma conclusão sobre o experimento, comentando sobre:<span/>\n"
   ]
  },
  {
   "cell_type": "markdown",
   "metadata": {},
   "source": [
    "<span style=\"color:orange\">a. as ferramentas e recursos utilizados;<span/>\n"
   ]
  },
  {
   "cell_type": "markdown",
   "metadata": {},
   "source": [
    "<span style=\"color:orange\">b. as referências (sites, livros, artigos) utilizados;<span/>\n"
   ]
  },
  {
   "cell_type": "markdown",
   "metadata": {},
   "source": [
    "<span style=\"color:orange\">c. os resultados obtidos com o experimento;<span/>\n"
   ]
  },
  {
   "cell_type": "markdown",
   "metadata": {},
   "source": [
    "<span style=\"color:orange\">d. possibilidades de trabalhos futuros com este experimento;<span/>\n"
   ]
  },
  {
   "cell_type": "markdown",
   "metadata": {},
   "source": [
    "<span style=\"color:orange\">e. aspectos do aprendizado pessoal durante o experimento.<span/>"
   ]
  },
  {
   "cell_type": "markdown",
   "metadata": {},
   "source": [
    "#  # TODO"
   ]
  }
 ],
 "metadata": {
  "colab": {
   "include_colab_link": true,
   "name": "Untitled1.ipynb",
   "provenance": [],
   "version": "0.3.2"
  },
  "kernelspec": {
   "display_name": "Python 3",
   "language": "python",
   "name": "python3"
  },
  "language_info": {
   "codemirror_mode": {
    "name": "ipython",
    "version": 3
   },
   "file_extension": ".py",
   "mimetype": "text/x-python",
   "name": "python",
   "nbconvert_exporter": "python",
   "pygments_lexer": "ipython3",
   "version": "3.7.1"
  }
 },
 "nbformat": 4,
 "nbformat_minor": 2
}
