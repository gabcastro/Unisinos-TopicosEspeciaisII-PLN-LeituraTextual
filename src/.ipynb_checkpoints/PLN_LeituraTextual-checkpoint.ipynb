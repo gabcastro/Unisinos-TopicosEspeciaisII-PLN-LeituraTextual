{
 "cells": [
  {
   "cell_type": "code",
   "execution_count": null,
   "metadata": {},
   "outputs": [],
   "source": [
    "import pandas\n",
    "import nltk\n",
    "import textblob\n",
    "import matplotlib.pyplot as plotlib\n",
    "\n",
    "nltk.download('words')\n",
    "nltk.download('stopwords')\n",
    "nltk.download('wordnet')\n",
    "nltk.download('brown')"
   ]
  },
  {
   "cell_type": "code",
   "execution_count": 67,
   "metadata": {},
   "outputs": [],
   "source": [
    "# Reading the dataset\n",
    "data = pandas.read_csv('dataset/review_hotel.csv')\n",
    "data_analyze = pandas.read_csv('dataset/review_hotel_analyze.csv')"
   ]
  },
  {
   "cell_type": "code",
   "execution_count": 68,
   "metadata": {},
   "outputs": [
    {
     "data": {
      "text/html": [
       "<div>\n",
       "<style scoped>\n",
       "    .dataframe tbody tr th:only-of-type {\n",
       "        vertical-align: middle;\n",
       "    }\n",
       "\n",
       "    .dataframe tbody tr th {\n",
       "        vertical-align: top;\n",
       "    }\n",
       "\n",
       "    .dataframe thead th {\n",
       "        text-align: right;\n",
       "    }\n",
       "</style>\n",
       "<table border=\"1\" class=\"dataframe\">\n",
       "  <thead>\n",
       "    <tr style=\"text-align: right;\">\n",
       "      <th></th>\n",
       "      <th>Review</th>\n",
       "    </tr>\n",
       "  </thead>\n",
       "  <tbody>\n",
       "    <tr>\n",
       "      <th>0</th>\n",
       "      <td>I am so angry that i made this post available...</td>\n",
       "    </tr>\n",
       "    <tr>\n",
       "      <th>1</th>\n",
       "      <td>Rooms are nice but for elderly a bit difficul...</td>\n",
       "    </tr>\n",
       "    <tr>\n",
       "      <th>2</th>\n",
       "      <td>My room was dirty and I was afraid to walk ba...</td>\n",
       "    </tr>\n",
       "    <tr>\n",
       "      <th>3</th>\n",
       "      <td>You When I booked with your company on line y...</td>\n",
       "    </tr>\n",
       "    <tr>\n",
       "      <th>4</th>\n",
       "      <td>Backyard of the hotel is total mess shouldn t...</td>\n",
       "    </tr>\n",
       "  </tbody>\n",
       "</table>\n",
       "</div>"
      ],
      "text/plain": [
       "                                              Review\n",
       "0   I am so angry that i made this post available...\n",
       "1   Rooms are nice but for elderly a bit difficul...\n",
       "2   My room was dirty and I was afraid to walk ba...\n",
       "3   You When I booked with your company on line y...\n",
       "4   Backyard of the hotel is total mess shouldn t..."
      ]
     },
     "execution_count": 68,
     "metadata": {},
     "output_type": "execute_result"
    }
   ],
   "source": [
    "# Exploring the top 5 observations\n",
    "data.head()"
   ]
  },
  {
   "cell_type": "code",
   "execution_count": 69,
   "metadata": {},
   "outputs": [
    {
     "data": {
      "text/html": [
       "<div>\n",
       "<style scoped>\n",
       "    .dataframe tbody tr th:only-of-type {\n",
       "        vertical-align: middle;\n",
       "    }\n",
       "\n",
       "    .dataframe tbody tr th {\n",
       "        vertical-align: top;\n",
       "    }\n",
       "\n",
       "    .dataframe thead th {\n",
       "        text-align: right;\n",
       "    }\n",
       "</style>\n",
       "<table border=\"1\" class=\"dataframe\">\n",
       "  <thead>\n",
       "    <tr style=\"text-align: right;\">\n",
       "      <th></th>\n",
       "      <th>Review</th>\n",
       "    </tr>\n",
       "  </thead>\n",
       "  <tbody>\n",
       "    <tr>\n",
       "      <th>338</th>\n",
       "      <td>Bed was really comfortable</td>\n",
       "    </tr>\n",
       "    <tr>\n",
       "      <th>339</th>\n",
       "      <td>Beautiful hotel with views of the park Transp...</td>\n",
       "    </tr>\n",
       "    <tr>\n",
       "      <th>340</th>\n",
       "      <td>No Positive</td>\n",
       "    </tr>\n",
       "    <tr>\n",
       "      <th>341</th>\n",
       "      <td>Large clean rooms with a nice size comfy bed ...</td>\n",
       "    </tr>\n",
       "    <tr>\n",
       "      <th>342</th>\n",
       "      <td>Well equipped nice room Traditinal but modern...</td>\n",
       "    </tr>\n",
       "  </tbody>\n",
       "</table>\n",
       "</div>"
      ],
      "text/plain": [
       "                                                Review\n",
       "338                        Bed was really comfortable \n",
       "339   Beautiful hotel with views of the park Transp...\n",
       "340                                        No Positive\n",
       "341   Large clean rooms with a nice size comfy bed ...\n",
       "342   Well equipped nice room Traditinal but modern..."
      ]
     },
     "execution_count": 69,
     "metadata": {},
     "output_type": "execute_result"
    }
   ],
   "source": [
    "# Exploring the last 5 observations.\n",
    "data.tail()"
   ]
  },
  {
   "cell_type": "code",
   "execution_count": 70,
   "metadata": {},
   "outputs": [],
   "source": [
    "# Number of dataset consumed itens\n",
    "number_dataset_consumed_itens = 2\n",
    "\n",
    "sentences_tokens = []\n",
    "\n",
    "# Set language stopwords to english\n",
    "stop_words = set(nltk.corpus.stopwords.words('english')) \n",
    "\n",
    "# Do tokenization over each Review from dataset\n",
    "for index, row in data.iterrows():\n",
    "    sentences_tokens.append(nltk.word_tokenize(row['Review']))\n",
    "\n",
    "# Put all words on singular and after find infinitive verbs of words\n",
    "\n",
    "word_capital_letter = ''\n",
    "lemmatized = ''\n",
    "index = -1\n",
    "\n",
    "for row_tokenizing in sentences_tokens:\n",
    "    for token in row_tokenizing:\n",
    "        index += 1\n",
    "        word_capital_letter = token\n",
    "        lemmatized = nltk.WordNetLemmatizer().lemmatize(word_capital_letter.lower(), 'v')\n",
    "        if word_capital_letter.istitle():\n",
    "            word_capital_letter = lemmatized.capitalize()\n",
    "        else:\n",
    "            word_capital_letter = lemmatized\n",
    "        token = word_capital_letter\n",
    "        row_tokenizing[index] = token\n",
    "    \n",
    "    index = -1           \n",
    "\n",
    "# Remove stop words\n",
    "\n",
    "index = -1\n",
    "\n",
    "for words_sentence in sentences_tokens:\n",
    "    for word in words_sentence:\n",
    "        index += 1\n",
    "        if word in stop_words:\n",
    "            del words_sentence[index]\n",
    "    \n",
    "    index = -1"
   ]
  },
  {
   "cell_type": "code",
   "execution_count": 97,
   "metadata": {},
   "outputs": [
    {
     "data": {
      "text/html": [
       "<div>\n",
       "<style scoped>\n",
       "    .dataframe tbody tr th:only-of-type {\n",
       "        vertical-align: middle;\n",
       "    }\n",
       "\n",
       "    .dataframe tbody tr th {\n",
       "        vertical-align: top;\n",
       "    }\n",
       "\n",
       "    .dataframe thead th {\n",
       "        text-align: right;\n",
       "    }\n",
       "</style>\n",
       "<table border=\"1\" class=\"dataframe\">\n",
       "  <thead>\n",
       "    <tr style=\"text-align: right;\">\n",
       "      <th></th>\n",
       "      <th>Review</th>\n",
       "      <th>polarity</th>\n",
       "      <th>subjectivity</th>\n",
       "      <th>id</th>\n",
       "    </tr>\n",
       "  </thead>\n",
       "  <tbody>\n",
       "    <tr>\n",
       "      <th>0</th>\n",
       "      <td>I am so angry that i made this post available...</td>\n",
       "      <td>0.055789</td>\n",
       "      <td>0.416072</td>\n",
       "      <td>0</td>\n",
       "    </tr>\n",
       "    <tr>\n",
       "      <th>1</th>\n",
       "      <td>Rooms are nice but for elderly a bit difficul...</td>\n",
       "      <td>0.032653</td>\n",
       "      <td>0.539541</td>\n",
       "      <td>1</td>\n",
       "    </tr>\n",
       "    <tr>\n",
       "      <th>2</th>\n",
       "      <td>My room was dirty and I was afraid to walk ba...</td>\n",
       "      <td>-0.027160</td>\n",
       "      <td>0.554321</td>\n",
       "      <td>2</td>\n",
       "    </tr>\n",
       "    <tr>\n",
       "      <th>3</th>\n",
       "      <td>You When I booked with your company on line y...</td>\n",
       "      <td>0.066667</td>\n",
       "      <td>0.464815</td>\n",
       "      <td>3</td>\n",
       "    </tr>\n",
       "    <tr>\n",
       "      <th>4</th>\n",
       "      <td>Backyard of the hotel is total mess shouldn t...</td>\n",
       "      <td>-0.087500</td>\n",
       "      <td>0.462500</td>\n",
       "      <td>4</td>\n",
       "    </tr>\n",
       "    <tr>\n",
       "      <th>5</th>\n",
       "      <td>Cleaner did not change our sheet and duvet ev...</td>\n",
       "      <td>0.083333</td>\n",
       "      <td>0.650000</td>\n",
       "      <td>5</td>\n",
       "    </tr>\n",
       "    <tr>\n",
       "      <th>6</th>\n",
       "      <td>Apart from the price for the brekfast Everyth...</td>\n",
       "      <td>0.700000</td>\n",
       "      <td>0.600000</td>\n",
       "      <td>6</td>\n",
       "    </tr>\n",
       "    <tr>\n",
       "      <th>7</th>\n",
       "      <td>Even though the pictures show very clean room...</td>\n",
       "      <td>-0.083333</td>\n",
       "      <td>0.525000</td>\n",
       "      <td>7</td>\n",
       "    </tr>\n",
       "    <tr>\n",
       "      <th>8</th>\n",
       "      <td>The aircondition makes so much noise and its ...</td>\n",
       "      <td>-0.045833</td>\n",
       "      <td>0.370833</td>\n",
       "      <td>8</td>\n",
       "    </tr>\n",
       "    <tr>\n",
       "      <th>9</th>\n",
       "      <td>6 30 AM started big noise workers loading woo...</td>\n",
       "      <td>-0.207143</td>\n",
       "      <td>0.785714</td>\n",
       "      <td>9</td>\n",
       "    </tr>\n",
       "  </tbody>\n",
       "</table>\n",
       "</div>"
      ],
      "text/plain": [
       "                                              Review  polarity  subjectivity  \\\n",
       "0   I am so angry that i made this post available...  0.055789      0.416072   \n",
       "1   Rooms are nice but for elderly a bit difficul...  0.032653      0.539541   \n",
       "2   My room was dirty and I was afraid to walk ba... -0.027160      0.554321   \n",
       "3   You When I booked with your company on line y...  0.066667      0.464815   \n",
       "4   Backyard of the hotel is total mess shouldn t... -0.087500      0.462500   \n",
       "5   Cleaner did not change our sheet and duvet ev...  0.083333      0.650000   \n",
       "6   Apart from the price for the brekfast Everyth...  0.700000      0.600000   \n",
       "7   Even though the pictures show very clean room... -0.083333      0.525000   \n",
       "8   The aircondition makes so much noise and its ... -0.045833      0.370833   \n",
       "9   6 30 AM started big noise workers loading woo... -0.207143      0.785714   \n",
       "\n",
       "   id  \n",
       "0   0  \n",
       "1   1  \n",
       "2   2  \n",
       "3   3  \n",
       "4   4  \n",
       "5   5  \n",
       "6   6  \n",
       "7   7  \n",
       "8   8  \n",
       "9   9  "
      ]
     },
     "execution_count": 97,
     "metadata": {},
     "output_type": "execute_result"
    }
   ],
   "source": [
    "\n",
    "polarity_sentences = []\n",
    "subjectivity_sentences = []\n",
    "index = []\n",
    "count = -1\n",
    "\n",
    "for sentence_token in sentences_tokens:\n",
    "    \n",
    "    text = nltk.tokenize.treebank.TreebankWordDetokenizer().detokenize(sentence_token)\n",
    "    \n",
    "    blob = textblob.TextBlob(text)\n",
    "    \n",
    "    # [('The', 'DT'), ('titular', 'JJ'),\n",
    "    #  ('threat', 'NN'), ('of', 'IN'), ...]\n",
    "    blob.tags\n",
    "    \n",
    "    # WordList(['titular threat', 'blob',\n",
    "    #            'ultimate movie monster',\n",
    "    #            'amoeba-like mass', ...])\n",
    "    blob.noun_phrases  \n",
    "    \n",
    "    for sentence in blob.sentences:\n",
    "        count += 1\n",
    "        index.append(count)\n",
    "        polarity_sentences.append(sentence.sentiment.polarity)\n",
    "        subjectivity_sentences.append(sentence.sentiment.subjectivity)\n",
    "\n",
    "data['polarity'] = polarity_sentences\n",
    "data['subjectivity'] = subjectivity_sentences\n",
    "data['id'] = index\n",
    "\n",
    "data.head(10)"
   ]
  },
  {
   "cell_type": "code",
   "execution_count": 104,
   "metadata": {},
   "outputs": [
    {
     "data": {
      "image/png": "[encoded data removed]",
      "text/plain": [
       "<Figure size 720x576 with 1 Axes>"
      ]
     },
     "metadata": {
      "needs_background": "light"
     },
     "output_type": "display_data"
    }
   ],
   "source": [
    "plotlib.rcParams['figure.figsize'] = [10, 8]\n",
    "\n",
    "for index, id in enumerate(data.index):\n",
    "    x = data.polarity.loc[id]\n",
    "    y = data.subjectivity.loc[id]\n",
    "    plotlib.scatter(x, y, color='blue')\n",
    "    plotlib.text(x+.001, y+.001, [index], fontsize=0)\n",
    "    plotlib.xlim(-1., 1.)\n",
    "    \n",
    "plotlib.title('Sentiment Analysis of Hotel''s Review', fontsize=20)\n",
    "plotlib.xlabel('<-- Negative -------- Positive -->', fontsize=15)\n",
    "plotlib.ylabel('<-- Facts -------- Opinions -->', fontsize=15)\n",
    "\n",
    "plotlib.show()"
   ]
  },
  {
   "cell_type": "markdown",
   "metadata": {},
   "source": [
    "<span style=\"color:orange\">- Realizar classificação manual (positiva e negativa) sobre cada frase e adicionar a um arquivo para os experimentos<span/>"
   ]
  },
  {
   "cell_type": "code",
   "execution_count": 114,
   "metadata": {},
   "outputs": [
    {
     "name": "stdout",
     "output_type": "stream",
     "text": [
      "['Negative', 'Positive']\n"
     ]
    }
   ],
   "source": [
    "# TODO: why this cell was created? need review about this\n",
    "\n",
    "analyze_sentences_tokens = []\n",
    "\n",
    "for index, row in data_analyze.iterrows():\n",
    "    analyze_sentences_tokens.append(nltk.word_tokenize(row['Analyze']))\n",
    "\n",
    "analyze_sentences = []\n",
    "\n",
    "for analyze_sentence_tokens in analyze_sentences_tokens:\n",
    "    \n",
    "    text = nltk.tokenize.treebank.TreebankWordDetokenizer().detokenize(analyze_sentence_tokens)\n",
    "    analyze_sentences.append(text)\n",
    "    \n",
    "print(analyze_sentences)"
   ]
  },
  {
   "cell_type": "markdown",
   "metadata": {},
   "source": [
    "<span style=\"color:orange\">f) Realizar experimentos. <span/>"
   ]
  },
  {
   "cell_type": "markdown",
   "metadata": {},
   "source": [
    "<span style=\"color:orange\">- Realizar análise entre a resposta do nosso código e a classificação manual (positiva e negativa) realizada em cada frase<span/>"
   ]
  },
  {
   "cell_type": "code",
   "execution_count": 115,
   "metadata": {},
   "outputs": [
    {
     "name": "stdout",
     "output_type": "stream",
     "text": [
      "Sentence Number: 0 - Comparison Code X Manual Analysis: FAILURE\n",
      "Sentence Number: 1 - Comparison Code X Manual Analysis: SUCCESS\n"
     ]
    }
   ],
   "source": [
    "# Not will be work to all dataset\n",
    "\n",
    "index = 0\n",
    "\n",
    "for polarity_sentence in polarity_sentences[0:2]:  \n",
    "    if polarity_sentence > 0 and analyze_sentences[index] == \"Positive\":\n",
    "        print(\"Sentence Number: \" + str(index) + \" - Comparison Code X Manual Analysis: SUCCESS\")\n",
    "    elif polarity_sentence < 0 and analyze_sentences[index] == \"Negative\":\n",
    "        print(\"Sentence Number: \" + str(index) + \" - Comparison Code X Manual Analysis: SUCCESS\")\n",
    "    else:\n",
    "        print(\"Sentence Number: \" + str(index) + \" - Comparison Code X Manual Analysis: FAILURE\")\n",
    "    index = index + 1\n",
    "        "
   ]
  },
  {
   "cell_type": "markdown",
   "metadata": {},
   "source": [
    "<span style=\"color:orange\">g) Relatar os resultados segundo estas etapas previstas e escrever uma conclusão sobre o experimento, comentando sobre:<span/>\n"
   ]
  },
  {
   "cell_type": "markdown",
   "metadata": {},
   "source": [
    "<span style=\"color:orange\">a. as ferramentas e recursos utilizados;<span/>\n"
   ]
  },
  {
   "cell_type": "markdown",
   "metadata": {},
   "source": [
    "<span style=\"color:orange\">b. as referências (sites, livros, artigos) utilizados;<span/>\n"
   ]
  },
  {
   "cell_type": "markdown",
   "metadata": {},
   "source": [
    "<span style=\"color:orange\">c. os resultados obtidos com o experimento;<span/>\n"
   ]
  },
  {
   "cell_type": "markdown",
   "metadata": {},
   "source": [
    "<span style=\"color:orange\">d. possibilidades de trabalhos futuros com este experimento;<span/>\n"
   ]
  },
  {
   "cell_type": "markdown",
   "metadata": {},
   "source": [
    "<span style=\"color:orange\">e. aspectos do aprendizado pessoal durante o experimento.<span/>"
   ]
  }
 ],
 "metadata": {
  "colab": {
   "include_colab_link": true,
   "name": "Untitled1.ipynb",
   "provenance": [],
   "version": "0.3.2"
  },
  "kernelspec": {
   "display_name": "Python 3",
   "language": "python",
   "name": "python3"
  },
  "language_info": {
   "codemirror_mode": {
    "name": "ipython",
    "version": 3
   },
   "file_extension": ".py",
   "mimetype": "text/x-python",
   "name": "python",
   "nbconvert_exporter": "python",
   "pygments_lexer": "ipython3",
   "version": "3.7.1"
  }
 },
 "nbformat": 4,
 "nbformat_minor": 2
}
