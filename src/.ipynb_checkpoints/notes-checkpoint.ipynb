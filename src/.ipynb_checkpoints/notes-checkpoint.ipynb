{
 "cells": [
  {
   "cell_type": "markdown",
   "metadata": {},
   "source": [
    "## Exemple of an information extraction architecture \n",
    "\n",
    "<img src=\"img/ie-architecture-extraction-information.png\" height=\"600\" width=\"600\">"
   ]
  },
  {
   "cell_type": "markdown",
   "metadata": {},
   "source": [
    "### tokenizing - word tokenizers or sentence tokenizes\n",
    "#### lexicon and corporas:\n",
    "- corpora - body of text i.e: medical journals\n",
    "- lexicon - words and their means\n",
    "\n",
    "##### investor speak 'bull' - someone who is positive about the market\n",
    "##### english-speak 'bull' - scary animal you don't want running at you"
   ]
  },
  {
   "cell_type": "markdown",
   "metadata": {},
   "source": [
    "### using tokenizing in code:\n",
    "\n",
    "``nltk.sent_tokenize(sentence)``\n",
    "\n",
    "``nltk.word_tokenize(sentence)``\n"
   ]
  },
  {
   "cell_type": "markdown",
   "metadata": {},
   "source": [
    "### stop words\n",
    "\n",
    "a stop word is a commonly used word (such as “the”, “a”, “an”, “in”) that a search engine has been programmed to ignore, both when indexing entries for searching and when retrieving them as the result of a search query."
   ]
  },
  {
   "cell_type": "markdown",
   "metadata": {},
   "source": [
    "#### link to understand what means each part-of-speech tag and chunk tags: <a href=\"https://www.clips.uantwerpen.be/pages/mbsp-tags\">Penn Treebank II tag set</a>"
   ]
  },
  {
   "cell_type": "markdown",
   "metadata": {},
   "source": [
    "## stemming \n",
    "\n",
    "stemming is the process of producing morphological variants of a root/base word. Stemming programs are commonly referred to as stemming algorithms or stemmers. A stemming algorithm reduces the words “chocolates”, “chocolatey”, “choco” to the root word, “chocolate” and “retrieval”, “retrieved”, “retrieves” reduce to the stem “retrieve”."
   ]
  },
  {
   "cell_type": "markdown",
   "metadata": {},
   "source": [
    "## Potter’s Stemmer algorithm\n",
    "\n",
    "It is one of the most popular stemming methods proposed in 1980. It is based on the idea that the suffixes in the English language are made up of a combination of smaller and simpler suffixes.\n",
    "\n",
    "Example: EED -> EE means “if the word has at least one vowel and consonant plus EED ending, change the ending to EE” as ‘agreed’ becomes ‘agree’.\n",
    "\n",
    "__Advantage__: It produces the best output as compared to other stemmers and it has less error rate.\n",
    "\n",
    "__Limitation__:  Morphological variants produced are not always real words."
   ]
  },
  {
   "cell_type": "code",
   "execution_count": null,
   "metadata": {},
   "outputs": [],
   "source": []
  }
 ],
 "metadata": {
  "kernelspec": {
   "display_name": "Python 3",
   "language": "python",
   "name": "python3"
  },
  "language_info": {
   "codemirror_mode": {
    "name": "ipython",
    "version": 3
   },
   "file_extension": ".py",
   "mimetype": "text/x-python",
   "name": "python",
   "nbconvert_exporter": "python",
   "pygments_lexer": "ipython3",
   "version": "3.7.1"
  }
 },
 "nbformat": 4,
 "nbformat_minor": 2
}
