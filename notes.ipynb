{
 "cells": [
  {
   "cell_type": "markdown",
   "metadata": {},
   "source": [
    "### tokenizing - word tokenizers or sentence tokenizes\n",
    "#### lexicon and corporas:\n",
    "- corpora - body of text i.e: medical journals\n",
    "- lexicon - words and their means\n",
    "\n",
    "##### investor speak 'bull' - someone who is positive about the market\n",
    "##### english-speak 'bull' - scary animal you don't want running at you"
   ]
  },
  {
   "cell_type": "markdown",
   "metadata": {},
   "source": [
    "### using tokenizing in code:\n",
    "\n",
    "``nltk.sent_tokenize(sentence)``\n",
    "\n",
    "``nltk.word_tokenize(sentence)``\n"
   ]
  },
  {
   "cell_type": "markdown",
   "metadata": {},
   "source": [
    "### stop words\n",
    "\n",
    "#####  A stop word is a commonly used word (such as “the”, “a”, “an”, “in”) that a search engine has been programmed to ignore, both when indexing entries for searching and when retrieving them as the result of a search query."
   ]
  },
  {
   "cell_type": "markdown",
   "metadata": {},
   "source": [
    "### Link to understand what means each part-of-speech tag and chunk tags\n",
    "\n",
    "- <a href=\"https://www.clips.uantwerpen.be/pages/mbsp-tags\">Penn Treebank II tag set</a>"
   ]
  },
  {
   "cell_type": "code",
   "execution_count": null,
   "metadata": {},
   "outputs": [],
   "source": []
  }
 ],
 "metadata": {
  "kernelspec": {
   "display_name": "Python 3",
   "language": "python",
   "name": "python3"
  },
  "language_info": {
   "codemirror_mode": {
    "name": "ipython",
    "version": 3
   },
   "file_extension": ".py",
   "mimetype": "text/x-python",
   "name": "python",
   "nbconvert_exporter": "python",
   "pygments_lexer": "ipython3",
   "version": "3.7.1"
  }
 },
 "nbformat": 4,
 "nbformat_minor": 2
}
